{
 "cells": [
  {
   "cell_type": "markdown",
   "id": "084c62e8",
   "metadata": {},
   "source": [
    "# Logistic Regression Proyect\n",
    "## Table of contents\n",
    "### Explore Data Analysis (EDA)"
   ]
  },
  {
   "cell_type": "markdown",
   "id": "a44bb5ef",
   "metadata": {},
   "source": [
    "* [0. Problem Statement](#co)\n",
    "* [1. Importing libraries](#c1)"
   ]
  },
  {
   "cell_type": "markdown",
   "id": "e37cda29",
   "metadata": {},
   "source": [
    "## 0. Problem Statement <a id='c0'></a>\n",
    "\n",
    "The objective of this exercise is to conduct an in-depth EDA analysis and develop a predictive K Nearest Neighbours (KNN) to determine the quality of red wine from their chemicals characteristics."
   ]
  },
  {
   "cell_type": "markdown",
   "id": "aa8d4907",
   "metadata": {},
   "source": [
    "## 1. Importing libraries <a id='c1'></a>"
   ]
  },
  {
   "cell_type": "code",
   "execution_count": null,
   "id": "c432d1dd",
   "metadata": {},
   "outputs": [],
   "source": [
    "import pandas as pd\n",
    "import matplotlib.pyplot as plt\n",
    "import seaborn as sns\n",
    "import numpy as np\n",
    "import os\n",
    "import json\n",
    "import warnings\n",
    "import pickle\n",
    "from pickle import dump\n",
    "from sklearn.model_selection import train_test_split, GridSearchCV\n",
    "from sklearn.preprocessing import StandardScaler, MinMaxScaler\n",
    "from sklearn.neighbors import KNeighborsRegressor\n",
    "from sklearn.datasets import make_classification\n",
    "from sklearn.metrics import mean_squared_error, r2_score\n",
    "import plotly.express as px\n",
    "\n",
    "def warn(*args, **kwargs):\n",
    "    pass\n",
    "warnings.warn = warn\n",
    "warnings.filterwarnings(\"ignore\", category=FutureWarning)\n",
    "pd.set_option('display.max_columns', None)"
   ]
  }
 ],
 "metadata": {
  "kernelspec": {
   "display_name": "Python 3",
   "language": "python",
   "name": "python3"
  },
  "language_info": {
   "name": "python",
   "version": "3.13.6"
  }
 },
 "nbformat": 4,
 "nbformat_minor": 5
}
